{
 "cells": [
  {
   "cell_type": "code",
   "execution_count": 1,
   "metadata": {},
   "outputs": [],
   "source": [
    "import os\n",
    "import numpy as np\n",
    "import cv2\n",
    "import matplotlib.pyplot as plt\n",
    "from matplotlib.colors import LinearSegmentedColormap"
   ]
  },
  {
   "cell_type": "code",
   "execution_count": null,
   "metadata": {},
   "outputs": [],
   "source": [
    "colors = [(1, 1, 1), (254/255,204/255,92/255), (253/255,141/255,60/255), (240/255,59/255,32/255), (189/255,0,38/255)]\n",
    "cmap = LinearSegmentedColormap.from_list('colorscale', colors, N=100)\n",
    "\n",
    "colors = [(0.8, 0.8, 0.8), (0, 0, 0)]\n",
    "cmap2 = LinearSegmentedColormap.from_list('colorscale', colors, N=256)\n",
    "dates = ['summer', 'spring', 'winter']\n",
    "\n",
    "i, j = 19294, 24640\n",
    "\n",
    "\n",
    "for x in range(-1, 2):\n",
    "    for y in range(-1, 2):\n",
    "        img = cv2.imread(\"data\\\\shadows\\\\nyc-winter\\\\16\\\\%d\\\\%d.png\"%(i+x, j+y), cv2.IMREAD_GRAYSCALE)\n",
    "        height = cv2.imread(\"data\\\\heights_new\\\\nyc\\\\16\\\\%d\\\\%d.png\"%(i+x, j+y), cv2.IMREAD_GRAYSCALE)\n",
    "        # img = np.where(height > 0, 0, img)\n",
    "        \n",
    "        v1a = np.ma.masked_array(height, mask=(height <= 0))\n",
    "        v1b = img\n",
    "        # v1b = np.ma.masked_array(img, mask=(height > 0))\n",
    "\n",
    "        fig, ax = plt.subplots()\n",
    "        ax.axis('off')\n",
    "        pb = ax.imshow(v1b, cmap=cmap, vmin=0, vmax=255);\n",
    "        pa = ax.imshow(v1a, cmap=cmap2, vmin = 0, vmax = 255);\n",
    "        \n",
    "        # save plot\n",
    "        filename = 'data\\\\plots\\\\padding_with_heights\\\\16_%d_%d.png'%(i+x, j+y)\n",
    "        if not os.path.exists(os.path.dirname(filename)):\n",
    "            os.makedirs(os.path.dirname(filename))\n",
    "\n",
    "        plt.savefig(filename, bbox_inches='tight', pad_inches = 0)\n",
    "        plt.close();"
   ]
  },
  {
   "cell_type": "code",
   "execution_count": null,
   "metadata": {},
   "outputs": [],
   "source": []
  }
 ],
 "metadata": {
  "kernelspec": {
   "display_name": "Python 3",
   "language": "python",
   "name": "python3"
  },
  "language_info": {
   "codemirror_mode": {
    "name": "ipython",
    "version": 3
   },
   "file_extension": ".py",
   "mimetype": "text/x-python",
   "name": "python",
   "nbconvert_exporter": "python",
   "pygments_lexer": "ipython3",
   "version": "3.9.16"
  },
  "orig_nbformat": 4
 },
 "nbformat": 4,
 "nbformat_minor": 2
}
