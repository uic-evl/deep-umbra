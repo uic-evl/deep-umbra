{
 "cells": [
  {
   "cell_type": "code",
   "execution_count": null,
   "id": "7c186fc6",
   "metadata": {},
   "outputs": [],
   "source": [
    "import os\n",
    "import re\n",
    "import pathlib\n",
    "import time\n",
    "import itertools\n",
    "import glob\n",
    "import datetime\n",
    "import matplotlib.pyplot as plt\n",
    "import tensorflow as tf\n",
    "import pandas as pd\n",
    "import numpy as np\n",
    "from IPython import display\n",
    "from sklearn.model_selection import train_test_split\n",
    "\n",
    "from deep_shadow import *\n",
    "from utils import *\n",
    "\n",
    "%load_ext autoreload\n",
    "%autoreload 2"
   ]
  },
  {
   "cell_type": "markdown",
   "id": "71808851",
   "metadata": {},
   "source": [
    "## Loading dataset"
   ]
  },
  {
   "cell_type": "code",
   "execution_count": null,
   "id": "6609cc14",
   "metadata": {},
   "outputs": [],
   "source": [
    "cities = ['la','bos','nyc','chi','sp', 'bue', 'joh', 'syd', 'tok', 'par', 'mex', 'sea', 'aus']\n",
    "dates = ['winter', 'spring', 'summer']\n",
    "zoom = 16\n",
    "shadow_path = 'data/shadows/'\n",
    "height_path = 'data/heights/'\n",
    "checkpoint_name = 'all-all'\n",
    "checkpoint_path = 'training_checkpoints/%s'%(checkpoint_name)\n",
    "\n",
    "TILES_PER_CITY = 270\n",
    "BATCH_SIZE = 2"
   ]
  },
  {
   "cell_type": "code",
   "execution_count": null,
   "id": "2746bc92",
   "metadata": {},
   "outputs": [],
   "source": [
    "train_dataset, test_dataset = get_train_test(height_path, shadow_path, cities, dates, zoom, TILES_PER_CITY, BATCH_SIZE)"
   ]
  },
  {
   "cell_type": "code",
   "execution_count": null,
   "id": "d78f1763",
   "metadata": {
    "scrolled": true
   },
   "outputs": [],
   "source": [
    "for inp, real, lat, dat in test_dataset.take(1):\n",
    "    inp = inp[0]\n",
    "    real = real[0]\n",
    "    lat = lat[0]\n",
    "    dat = dat[0]\n",
    "    \n",
    "plt.imshow((inp * 0.5 + 0.5) * 10)\n",
    "plt.show()\n",
    "\n",
    "plt.imshow((real * 0.5 + 0.5))\n",
    "plt.show()\n",
    "\n",
    "plt.figure(figsize=(6, 6))\n",
    "for i in range(4):\n",
    "    rj_inp, rj_re, rj_la, rj_da = random_jitter(inp, real, lat, dat)\n",
    "    plt.subplot(2, 2, i + 1)\n",
    "    plt.imshow((rj_inp * 0.5 + 0.5) * 10)\n",
    "plt.show()"
   ]
  },
  {
   "cell_type": "markdown",
   "id": "e11339b4",
   "metadata": {},
   "source": [
    "## Build generator and discriminator"
   ]
  },
  {
   "cell_type": "code",
   "execution_count": null,
   "id": "0a814ece",
   "metadata": {
    "scrolled": true
   },
   "outputs": [],
   "source": [
    "deep_shadow = DeepShadow(512,512)\n",
    "tf.keras.utils.plot_model(deep_shadow.generator, show_shapes=True, dpi=64)"
   ]
  },
  {
   "cell_type": "markdown",
   "id": "d24b2132",
   "metadata": {},
   "source": [
    "## Build discriminator"
   ]
  },
  {
   "cell_type": "code",
   "execution_count": null,
   "id": "18a0b890",
   "metadata": {
    "scrolled": true
   },
   "outputs": [],
   "source": [
    "tf.keras.utils.plot_model(deep_shadow.discriminator, show_shapes=True, dpi=64)"
   ]
  },
  {
   "cell_type": "markdown",
   "id": "24288ac9",
   "metadata": {},
   "source": [
    "## Generate images"
   ]
  },
  {
   "cell_type": "code",
   "execution_count": null,
   "id": "1457e2d6",
   "metadata": {
    "scrolled": true
   },
   "outputs": [],
   "source": [
    "for example_input, example_target, example_lat, example_date in test_dataset.take(5):\n",
    "    generate_images(deep_shadow.generator, example_input, example_lat, example_date, example_target)"
   ]
  },
  {
   "cell_type": "markdown",
   "id": "542b9120",
   "metadata": {},
   "source": [
    "## Training"
   ]
  },
  {
   "cell_type": "code",
   "execution_count": null,
   "id": "201dea19",
   "metadata": {
    "scrolled": false
   },
   "outputs": [],
   "source": [
    "%load_ext tensorboard\n",
    "%tensorboard --logdir logs/ --port 8089"
   ]
  },
  {
   "cell_type": "code",
   "execution_count": null,
   "id": "f0d0f3a7",
   "metadata": {
    "scrolled": false
   },
   "outputs": [],
   "source": [
    "deep_shadow.fit(checkpoint_path, train_dataset, test_dataset, 100000)"
   ]
  }
 ],
 "metadata": {
  "kernelspec": {
   "display_name": "Python 3 (ipykernel)",
   "language": "python",
   "name": "python3"
  },
  "language_info": {
   "codemirror_mode": {
    "name": "ipython",
    "version": 3
   },
   "file_extension": ".py",
   "mimetype": "text/x-python",
   "name": "python",
   "nbconvert_exporter": "python",
   "pygments_lexer": "ipython3",
   "version": "3.9.12"
  }
 },
 "nbformat": 4,
 "nbformat_minor": 5
}
