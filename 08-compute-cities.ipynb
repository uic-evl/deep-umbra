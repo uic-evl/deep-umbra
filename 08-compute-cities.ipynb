{
 "cells": [
  {
   "cell_type": "code",
<<<<<<< HEAD
   "execution_count": 10,
=======
   "execution_count": 2,
>>>>>>> 8c67152e5537449a7f16e616a5360122ea74d1e9
   "id": "312e9ed4",
   "metadata": {},
   "outputs": [
    {
     "name": "stdout",
     "output_type": "stream",
     "text": [
      "The autoreload extension is already loaded. To reload it, use:\n",
      "  %reload_ext autoreload\n"
     ]
    }
   ],
   "source": [
    "import glob\n",
    "import re\n",
    "import random\n",
    "import cv2\n",
    "import tensorflow as tf\n",
    "import matplotlib.pyplot as plt\n",
    "from matplotlib.colors import LinearSegmentedColormap\n",
    "\n",
    "from tqdm.notebook import trange, tqdm\n",
    "from deep_shadow import *\n",
    "from utils import *\n",
    "\n",
    "%load_ext autoreload\n",
    "%autoreload 2\n"
   ]
  },
  {
   "cell_type": "code",
   "execution_count": 3,
   "id": "18ecfe9c",
   "metadata": {},
   "outputs": [],
   "source": [
    "# deep_shadow = DeepShadow(512, 512)\n",
    "# deep_shadow.restore('training_checkpoints/evaluation_new/uniform_cities')\n",
    "\n",
    "tf.keras.backend.clear_session()\n",
    "down_stack, up_stack = get_generator_arch('resnet9', attn=False)\n",
    "deep_shadow = DeepShadow(512, 512, down_stack, up_stack, latitude=True, date=True, loss_funcs=[ssim_loss, sobel_loss, l1_loss], type='resnet9', attention=False)\n",
    "deep_shadow.restore('training_checkpoints_new/uniform_cities_resnet_wo_attn__ssim_sobel_plus_l1')"
   ]
  },
  {
   "cell_type": "code",
   "execution_count": 4,
   "id": "82d06e62",
   "metadata": {},
   "outputs": [],
   "source": [
    "height_path = 'data/heights_new/'\n",
    "output_folder = 'data/shadows_new/'"
   ]
  },
  {
   "cell_type": "code",
   "execution_count": null,
   "id": "71dadad0",
   "metadata": {
    "scrolled": false
   },
<<<<<<< HEAD
   "outputs": [],
=======
   "outputs": [
    {
     "data": {
      "application/vnd.jupyter.widget-view+json": {
       "model_id": "f7487d83e9524b13a4d246946f2e2faa",
       "version_major": 2,
       "version_minor": 0
      },
      "text/plain": [
       "  0%|          | 0/14 [00:00<?, ?it/s]"
      ]
     },
     "metadata": {},
     "output_type": "display_data"
    },
    {
     "data": {
      "application/vnd.jupyter.widget-view+json": {
       "model_id": "5f935e883d2a4a8785c4d387df050d1e",
       "version_major": 2,
       "version_minor": 0
      },
      "text/plain": [
       "  0%|          | 0/2065 [00:00<?, ?it/s]"
      ]
     },
     "metadata": {},
     "output_type": "display_data"
    },
    {
     "data": {
      "application/vnd.jupyter.widget-view+json": {
       "model_id": "8e830a978e8c4028b9661016481a48a7",
       "version_major": 2,
       "version_minor": 0
      },
      "text/plain": [
       "  0%|          | 0/3689 [00:00<?, ?it/s]"
      ]
     },
     "metadata": {},
     "output_type": "display_data"
    },
    {
     "data": {
      "application/vnd.jupyter.widget-view+json": {
       "model_id": "4c4b0987afc04af6a8c01657c06616f3",
       "version_major": 2,
       "version_minor": 0
      },
      "text/plain": [
       "  0%|          | 0/1193 [00:00<?, ?it/s]"
      ]
     },
     "metadata": {},
     "output_type": "display_data"
    },
    {
     "data": {
      "application/vnd.jupyter.widget-view+json": {
       "model_id": "bac6ee0500484fbba3dbf7892db8eac4",
       "version_major": 2,
       "version_minor": 0
      },
      "text/plain": [
       "  0%|          | 0/4816 [00:00<?, ?it/s]"
      ]
     },
     "metadata": {},
     "output_type": "display_data"
    },
    {
     "data": {
      "application/vnd.jupyter.widget-view+json": {
       "model_id": "a98e944ae7a74a9e8c11da9297421e19",
       "version_major": 2,
       "version_minor": 0
      },
      "text/plain": [
       "  0%|          | 0/1873 [00:00<?, ?it/s]"
      ]
     },
     "metadata": {},
     "output_type": "display_data"
    },
    {
     "data": {
      "application/vnd.jupyter.widget-view+json": {
       "model_id": "42ca05ef510e4a31addbfbc06c13ace5",
       "version_major": 2,
       "version_minor": 0
      },
      "text/plain": [
       "  0%|          | 0/2151 [00:00<?, ?it/s]"
      ]
     },
     "metadata": {},
     "output_type": "display_data"
    },
    {
     "data": {
      "application/vnd.jupyter.widget-view+json": {
       "model_id": "0d8be120c1924fc0acc6043a577aadf6",
       "version_major": 2,
       "version_minor": 0
      },
      "text/plain": [
       "  0%|          | 0/8151 [00:00<?, ?it/s]"
      ]
     },
     "metadata": {},
     "output_type": "display_data"
    },
    {
     "data": {
      "application/vnd.jupyter.widget-view+json": {
       "model_id": "40f1e3dd006545f1a54ebecd931dad87",
       "version_major": 2,
       "version_minor": 0
      },
      "text/plain": [
       "  0%|          | 0/1978 [00:00<?, ?it/s]"
      ]
     },
     "metadata": {},
     "output_type": "display_data"
    },
    {
     "data": {
      "application/vnd.jupyter.widget-view+json": {
       "model_id": "1cf35f83a96b4cb7a17848e40eb56241",
       "version_major": 2,
       "version_minor": 0
      },
      "text/plain": [
       "  0%|          | 0/6833 [00:00<?, ?it/s]"
      ]
     },
     "metadata": {},
     "output_type": "display_data"
    },
    {
     "data": {
      "application/vnd.jupyter.widget-view+json": {
       "model_id": "7b8ce096c98b4e33918e8b6e50d1b998",
       "version_major": 2,
       "version_minor": 0
      },
      "text/plain": [
       "  0%|          | 0/1140 [00:00<?, ?it/s]"
      ]
     },
     "metadata": {},
     "output_type": "display_data"
    },
    {
     "data": {
      "application/vnd.jupyter.widget-view+json": {
       "model_id": "8bb2bb92f06b45048dc2bccc1a3f6ac6",
       "version_major": 2,
       "version_minor": 0
      },
      "text/plain": [
       "  0%|          | 0/1387 [00:00<?, ?it/s]"
      ]
     },
     "metadata": {},
     "output_type": "display_data"
    },
    {
     "data": {
      "application/vnd.jupyter.widget-view+json": {
       "model_id": "bdf7f6a6db734789bb9242fadcc8cd37",
       "version_major": 2,
       "version_minor": 0
      },
      "text/plain": [
       "  0%|          | 0/1237 [00:00<?, ?it/s]"
      ]
     },
     "metadata": {},
     "output_type": "display_data"
    },
    {
     "data": {
      "application/vnd.jupyter.widget-view+json": {
       "model_id": "752a1e0ebbc74afcb889ece90c856e3a",
       "version_major": 2,
       "version_minor": 0
      },
      "text/plain": [
       "  0%|          | 0/873 [00:00<?, ?it/s]"
      ]
     },
     "metadata": {},
     "output_type": "display_data"
    },
    {
     "data": {
      "application/vnd.jupyter.widget-view+json": {
       "model_id": "4e5952d2cfa04655980a0c9fe2574483",
       "version_major": 2,
       "version_minor": 0
      },
      "text/plain": [
       "  0%|          | 0/1882 [00:00<?, ?it/s]"
      ]
     },
     "metadata": {},
     "output_type": "display_data"
    }
   ],
>>>>>>> 8c67152e5537449a7f16e616a5360122ea74d1e9
   "source": [
    "paths = glob.glob('%s/*/' % height_path)\n",
    "for path in tqdm(paths):\n",
    "    files = glob.glob(path+'/*/*/*.png')\n",
    "    for filepath in tqdm(files, leave=False):\n",
    "        dates = ['spring', 'summer', 'winter']\n",
    "        for date in dates:\n",
    "            tks = os.path.normpath(filepath).split(os.path.sep)\n",
    "            city, zoom, i, j = tks[-4], int(tks[-3]\n",
    "                                            ), int(tks[-2]), int(tks[-1][:-4])\n",
    "\n",
    "            folder = '%s/%s-%s/%d/%d/' % (output_folder, city, date, zoom, i)\n",
    "            outputpath = '%s/%s-%s/%d/%d/%d.png' % (\n",
    "                output_folder, city, date, zoom, i, j)\n",
    "\n",
    "            # Skip if file exists\n",
    "            if os.path.exists(outputpath):\n",
    "                continue\n",
    "\n",
    "            if not os.path.exists(folder):\n",
    "                os.makedirs(folder)\n",
    "\n",
    "            input_height, input_lat, input_date = load_input_grid(\n",
    "                height_path, city, date, zoom, i, j)\n",
    "            input_height, input_lat, input_date = normalize_input(\n",
    "                input_height, input_lat, input_date)\n",
    "            input_height = np.array(input_height).reshape(1, 512, 512, 1)\n",
    "            input_lat = np.array(input_lat).reshape(1, 512, 512, 1)\n",
    "            input_date = np.array(input_date).reshape(1, 512, 512, 1)\n",
    "            prediction = deep_shadow.generator(\n",
    "                [input_height, input_lat, input_date], training=True)\n",
    "\n",
    "            height = input_height[:, 128:-128, 128:-128, :]\n",
    "            height = height * 0.5 + 0.5\n",
    "            prediction = prediction.numpy()[:, 128:-128, 128:-128, :]\n",
    "            prediction = prediction * 0.5 + 0.5\n",
    "\n",
    "            cv2.imwrite(outputpath, prediction[0]*255)\n",
    "\n",
    "\n",
    "\n",
    "\n",
    "#             if random.random() <= 0.01:\n",
    "#                 plot_result(height[0], prediction[0])\n",
    "\n",
    "#             plot_result(height[0],  prediction[0])\n",
    "#             target_image = tf.io.read_file('data/shadows/%s-%s/%d/%d/%d.png'%(city,date,zoom,i,j))\n",
    "#             target_image = tf.io.decode_png(target_image)[:,:,0]\n",
    "#             target_image = tf.reshape(target_image, (256, 256, 1))\n",
    "#             target_image = tf.cast(target_image, tf.float32)\n",
    "#             plot_comparison(height[0], target_image, prediction[0])\n",
    "#             break\n",
    "#         break\n",
    "#     break\n"
   ]
  },
  {
   "cell_type": "code",
   "execution_count": null,
<<<<<<< HEAD
   "id": "1fa119be",
=======
   "id": "ba0139b0",
>>>>>>> 8c67152e5537449a7f16e616a5360122ea74d1e9
   "metadata": {},
   "outputs": [],
   "source": []
  }
 ],
 "metadata": {
  "kernelspec": {
   "display_name": "Python 3 (ipykernel)",
   "language": "python",
   "name": "python3"
  },
  "language_info": {
   "codemirror_mode": {
    "name": "ipython",
    "version": 3
   },
   "file_extension": ".py",
   "mimetype": "text/x-python",
   "name": "python",
   "nbconvert_exporter": "python",
   "pygments_lexer": "ipython3",
   "version": "3.9.16"
  }
 },
 "nbformat": 4,
 "nbformat_minor": 5
}
