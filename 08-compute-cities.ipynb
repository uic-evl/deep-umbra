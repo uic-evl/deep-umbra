{
 "cells": [
  {
   "cell_type": "code",
   "execution_count": null,
   "id": "312e9ed4",
   "metadata": {},
   "outputs": [],
   "source": [
    "from collections import namedtuple\n",
    "import glob\n",
    "import re\n",
    "import random\n",
    "import random\n",
    "import cv2\n",
    "import pandas as pd\n",
    "import tensorflow as tf\n",
    "import matplotlib.pyplot as plt\n",
    "\n",
    "from pathlib import Path\n",
    "from tqdm.notebook import trange, tqdm\n",
    "from deep_shadow import *\n",
    "from utils import *\n",
    "import itertools\n",
    "from typing import NamedTuple\n",
    "import predict\n",
    "\n",
    "\n",
    "%load_ext autoreload\n",
    "%autoreload 2"
   ]
  },
  {
   "cell_type": "code",
   "execution_count": null,
   "id": "18ecfe9c",
   "metadata": {},
   "outputs": [],
   "source": [
    "# deep_shadow = DeepShadow(512, 512)\n",
    "# deep_shadow.restore('training_checkpoints/evaluation_new/uniform_cities')"
   ]
  },
  {
   "cell_type": "code",
   "execution_count": null,
   "id": "82d06e62",
   "metadata": {},
   "outputs": [],
   "source": [
    "height_folder = Path('data/heights_new')\n",
    "output_folder = Path('data/shadows_new')"
   ]
  },
  {
   "cell_type": "code",
   "execution_count": null,
   "outputs": [],
   "source": [
    "predict.predict_cities(height_folder, output_folder)\n",
    "# predict.predict_at_city_zoom()\n",
    "\"\"\"\n",
    "0   1   2   3\n",
    "4   5   6   7\n",
    "8   9   10  11\n",
    "12  13  14  15\n",
    "\"\"\""
   ],
   "metadata": {
    "collapsed": false,
    "pycharm": {
     "name": "#%%\n"
    }
   }
  },
  {
   "cell_type": "markdown",
   "source": [],
   "metadata": {
    "collapsed": false
   }
  },
  {
   "cell_type": "code",
   "execution_count": null,
   "outputs": [],
   "source": [
    "import numpy as np\n",
    "\n",
    "x = 0\n",
    "y = 0\n",
    "indices = [\n",
    "    (xx, yy)\n",
    "    for xx in range(256+256*x, 256+256*(x+1))\n",
    "    for yy in range(256+256*y, 256+256*(y+1))\n",
    "]\n",
    "indices = np.array(indices).reshape(256,256,-1)\n",
    "indices"
   ],
   "metadata": {
    "collapsed": false,
    "pycharm": {
     "name": "#%%\n"
    }
   }
  },
  {
   "cell_type": "code",
   "execution_count": 6,
   "outputs": [
    {
     "data": {
      "text/plain": "(256, 256, 2)"
     },
     "execution_count": 6,
     "metadata": {},
     "output_type": "execute_result"
    }
   ],
   "source": [
    "indices.shape"
   ],
   "metadata": {
    "collapsed": false,
    "pycharm": {
     "name": "#%%\n"
    }
   }
  },
  {
   "cell_type": "code",
   "execution_count": 22,
   "outputs": [],
   "source": [
    "import numpy as np\n",
    "x = 0\n",
    "y = 0\n",
    "a, b = np.meshgrid(\n",
    "    range(256+256*x, 256+256*(x+1)),\n",
    "    range(256+256*y, 256+256*(y+1)),\n",
    ")"
   ],
   "metadata": {
    "collapsed": false,
    "pycharm": {
     "name": "#%%\n"
    }
   }
  },
  {
   "cell_type": "code",
   "execution_count": 29,
   "outputs": [],
   "source": [
    "a, b = np.meshgrid(\n",
    "    np.arange(256+256*x, 256+256*(x+1)),\n",
    "    np.arange(256+256*y, 256+256*(y+1)).reshape((1,-1,1))\n",
    ")"
   ],
   "metadata": {
    "collapsed": false,
    "pycharm": {
     "name": "#%%\n"
    }
   }
  },
  {
   "cell_type": "code",
   "execution_count": 37,
   "outputs": [
    {
     "data": {
      "text/plain": "array([[[256, 257],\n        [258, 259],\n        [260, 261],\n        ...,\n        [511, 511],\n        [511, 511],\n        [511, 511]]])"
     },
     "execution_count": 37,
     "metadata": {},
     "output_type": "execute_result"
    }
   ],
   "source": [
    "np.concatenate((a,b), axis=0).reshape((1,-1,2))"
   ],
   "metadata": {
    "collapsed": false,
    "pycharm": {
     "name": "#%%\n"
    }
   }
  },
  {
   "cell_type": "code",
   "execution_count": 31,
   "outputs": [
    {
     "data": {
      "text/plain": "array([[256, 256, 256, ..., 256, 256, 256],\n       [257, 257, 257, ..., 257, 257, 257],\n       [258, 258, 258, ..., 258, 258, 258],\n       ...,\n       [509, 509, 509, ..., 509, 509, 509],\n       [510, 510, 510, ..., 510, 510, 510],\n       [511, 511, 511, ..., 511, 511, 511]])"
     },
     "execution_count": 31,
     "metadata": {},
     "output_type": "execute_result"
    }
   ],
   "source": [
    "b"
   ],
   "metadata": {
    "collapsed": false,
    "pycharm": {
     "name": "#%%\n"
    }
   }
  },
  {
   "cell_type": "code",
   "execution_count": 54,
   "outputs": [
    {
     "data": {
      "text/plain": "True"
     },
     "execution_count": 54,
     "metadata": {},
     "output_type": "execute_result"
    }
   ],
   "source": [
    "import numpy as np\n",
    "annoying = [\n",
    "    (xx, yy)\n",
    "    for xx in range(256+256*x, 256+256*(x+1))\n",
    "    for yy in range(256+256*y, 256+256*(y+1))\n",
    "]\n",
    "annoying = np.array(indices).reshape((256,256,-1))\n",
    "from sklearn.utils.extmath import cartesian\n",
    "easy = cartesian((\n",
    "    range(256+256*x, 256+256*(x+1)),\n",
    "    range(256+256*y, 256+256*(y+1)),\n",
    ")).reshape(256,256,-1)\n",
    "\n",
    "(easy == annoying).all()"
   ],
   "metadata": {
    "collapsed": false,
    "pycharm": {
     "name": "#%%\n"
    }
   }
  },
  {
   "cell_type": "code",
   "execution_count": null,
   "outputs": [],
   "source": [],
   "metadata": {
    "collapsed": false,
    "pycharm": {
     "name": "#%%\n"
    }
   }
  }
 ],
 "metadata": {
  "kernelspec": {
   "display_name": "Python 3 (ipykernel)",
   "language": "python",
   "name": "python3"
  },
  "language_info": {
   "codemirror_mode": {
    "name": "ipython",
    "version": 3
   },
   "file_extension": ".py",
   "mimetype": "text/x-python",
   "name": "python",
   "nbconvert_exporter": "python",
   "pygments_lexer": "ipython3",
   "version": "3.9.12"
  }
 },
 "nbformat": 4,
 "nbformat_minor": 5
}