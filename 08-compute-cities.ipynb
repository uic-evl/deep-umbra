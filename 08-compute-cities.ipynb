{
 "cells": [
  {
   "cell_type": "code",
   "execution_count": null,
   "id": "312e9ed4",
   "metadata": {},
   "outputs": [],
   "source": [
    "from collections import namedtuple\n",
    "import glob\n",
    "import re\n",
    "import random\n",
    "import random\n",
    "import cv2\n",
    "import pandas as pd\n",
    "import tensorflow as tf\n",
    "import matplotlib.pyplot as plt\n",
    "\n",
    "from pathlib import Path\n",
    "from tqdm.notebook import trange, tqdm\n",
    "from deep_shadow import *\n",
    "from utils import *\n",
    "import itertools\n",
    "from typing import NamedTuple\n",
    "from predict import predict\n",
    "\n",
    "\n",
    "%load_ext autoreload\n",
    "%autoreload 2"
   ]
  },
  {
   "cell_type": "code",
   "execution_count": null,
   "id": "18ecfe9c",
   "metadata": {},
   "outputs": [],
   "source": [
    "deep_shadow = DeepShadow(512, 512)\n",
    "deep_shadow.restore('training_checkpoints/evaluation_new/uniform_cities')"
   ]
  },
  {
   "cell_type": "code",
   "execution_count": null,
   "id": "82d06e62",
   "metadata": {},
   "outputs": [],
   "source": [
    "height_folder = Path('data/heights_new')\n",
    "output_folder = Path('data/shadows_new')"
   ]
  },
  {
   "cell_type": "code",
   "execution_count": null,
   "outputs": [],
   "source": [
    "predict(height_folder, output_folder)\n",
    "\"\"\"\n",
    "0   1   2   3\n",
    "4   5   6   7\n",
    "8   9   10  11\n",
    "12  13  14  15\n",
    "\"\"\""
   ],
   "metadata": {
    "collapsed": false,
    "pycharm": {
     "name": "#%%\n"
    }
   }
  }
 ],
 "metadata": {
  "kernelspec": {
   "display_name": "Python 3 (ipykernel)",
   "language": "python",
   "name": "python3"
  },
  "language_info": {
   "codemirror_mode": {
    "name": "ipython",
    "version": 3
   },
   "file_extension": ".py",
   "mimetype": "text/x-python",
   "name": "python",
   "nbconvert_exporter": "python",
   "pygments_lexer": "ipython3",
   "version": "3.9.12"
  }
 },
 "nbformat": 4,
 "nbformat_minor": 5
}