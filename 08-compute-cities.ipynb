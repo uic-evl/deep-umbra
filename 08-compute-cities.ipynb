{
 "cells": [
  {
   "cell_type": "code",
   "execution_count": 1,
   "id": "312e9ed4",
   "metadata": {},
   "outputs": [],
   "source": [
    "import glob\n",
    "import re\n",
    "import random\n",
    "import random\n",
    "import cv2\n",
    "import tensorflow as tf\n",
    "import matplotlib.pyplot as plt\n",
    "\n",
    "from tqdm.notebook import trange, tqdm\n",
    "from deep_shadow import *\n",
    "from utils import *\n",
    "\n",
    "%load_ext autoreload\n",
    "%autoreload 2"
   ]
  },
  {
   "cell_type": "code",
   "execution_count": 2,
   "id": "18ecfe9c",
   "metadata": {},
   "outputs": [],
   "source": [
    "deep_shadow = DeepShadow(512, 512)\n",
    "deep_shadow.restore('training_checkpoints/evaluation_new/uniform_cities')"
   ]
  },
  {
   "cell_type": "code",
   "execution_count": 3,
   "id": "82d06e62",
   "metadata": {},
   "outputs": [],
   "source": [
    "height_path = 'data/heights_new/'\n",
    "output_folder = 'data/shadows_new/'"
   ]
  },
  {
   "cell_type": "code",
   "execution_count": 5,
   "id": "71dadad0",
   "metadata": {
    "scrolled": false
   },
   "outputs": [
    {
     "data": {
      "application/vnd.jupyter.widget-view+json": {
       "model_id": "45627ecee66d405e9eb46361c3e54a04",
       "version_major": 2,
       "version_minor": 0
      },
      "text/plain": [
       "  0%|          | 0/1 [00:00<?, ?it/s]"
      ]
     },
     "metadata": {},
     "output_type": "display_data"
    },
    {
     "data": {
      "application/vnd.jupyter.widget-view+json": {
       "model_id": "",
       "version_major": 2,
       "version_minor": 0
      },
      "text/plain": [
       "  0%|          | 0/134 [00:00<?, ?it/s]"
      ]
     },
     "metadata": {},
     "output_type": "display_data"
    }
   ],
   "source": [
    "paths = glob.glob('%s/*/'%height_path)\n",
    "for path in tqdm(paths):\n",
    "    files = glob.glob(path+'/*/*/*.png')\n",
    "    for filepath in tqdm(files, leave=False):\n",
    "        dates = ['spring', 'summer', 'winter']\n",
    "        for date in dates:\n",
    "            tks = os.path.normpath(filepath).split(os.path.sep)\n",
    "            city, zoom, i, j = tks[-4], int(tks[-3]), int(tks[-2]), int(tks[-1][:-4])\n",
    "            \n",
    "            folder = '%s/%s-%s/%d/%d/'%(output_folder,city,date,zoom,i)\n",
    "            outputpath = '%s/%s-%s/%d/%d/%d.png'%(output_folder,city,date,zoom,i,j)\n",
    "            \n",
    "            # Skip if file exists\n",
    "            if os.path.exists(outputpath):\n",
    "                continue\n",
    "            \n",
    "            if not os.path.exists(folder):\n",
    "                os.makedirs(folder)\n",
    "            \n",
    "            input_height, input_lat, input_date = load_input_grid(height_path, city, date, zoom, i, j)\n",
    "            input_height, input_lat, input_date = normalize_input(input_height, input_lat, input_date)\n",
    "            input_height = np.array(input_height).reshape(1,512,512,1)\n",
    "            input_lat = np.array(input_lat).reshape(1,512,512,1)\n",
    "            input_date = np.array(input_date).reshape(1,512,512,1)\n",
    "            prediction = deep_shadow.generator([input_height, input_lat, input_date], training=True)\n",
    "            \n",
    "            height = input_height[:,128:-128,128:-128,:]\n",
    "            height = height * 0.5 + 0.5\n",
    "            prediction = prediction.numpy()[:,128:-128,128:-128,:]\n",
    "            prediction = prediction * 0.5 + 0.5\n",
    "            \n",
    "            cv2.imwrite(outputpath, prediction[0]*255)\n",
    "            \n",
    "#             if random.random() <= 0.01:\n",
    "#                 plot_result(height[0], prediction[0])\n",
    "        \n",
    "#             plot_result(height[0],  prediction[0])\n",
    "#             target_image = tf.io.read_file('data/shadows/%s-%s/%d/%d/%d.png'%(city,date,zoom,i,j))\n",
    "#             target_image = tf.io.decode_png(target_image)[:,:,0]\n",
    "#             target_image = tf.reshape(target_image, (256, 256, 1))\n",
    "#             target_image = tf.cast(target_image, tf.float32)\n",
    "#             plot_comparison(height[0], target_image, prediction[0])\n",
    "#             break\n",
    "#         break\n",
    "#     break"
   ]
  }
 ],
 "metadata": {
  "kernelspec": {
   "display_name": "Python 3 (ipykernel)",
   "language": "python",
   "name": "python3"
  },
  "language_info": {
   "codemirror_mode": {
    "name": "ipython",
    "version": 3
   },
   "file_extension": ".py",
   "mimetype": "text/x-python",
   "name": "python",
   "nbconvert_exporter": "python",
   "pygments_lexer": "ipython3",
   "version": "3.9.12"
  }
 },
 "nbformat": 4,
 "nbformat_minor": 5
}
