{
 "cells": [
  {
   "cell_type": "code",
   "execution_count": 1,
   "id": "c1663530",
   "metadata": {},
   "outputs": [],
   "source": [
    "import cv2\n",
    "import glob\n",
    "import os\n",
    "\n",
    "from tqdm.notebook import trange, tqdm"
   ]
  },
  {
   "cell_type": "code",
   "execution_count": 2,
   "id": "1c93d463",
   "metadata": {},
   "outputs": [],
   "source": [
    "outfolder = 'c:/shadows_compressed/'\n",
    "files = glob.glob('./data/shadows_new/*-*/*/*/*.png')"
   ]
  },
  {
   "cell_type": "code",
   "execution_count": 5,
   "id": "8a5d7a86",
   "metadata": {},
   "outputs": [
    {
     "data": {
      "application/vnd.jupyter.widget-view+json": {
       "model_id": "abfd83037e89464fb69e4fede0471cc0",
       "version_major": 2,
       "version_minor": 0
      },
      "text/plain": [
       "  0%|          | 0/402 [00:00<?, ?it/s]"
      ]
     },
     "metadata": {},
     "output_type": "display_data"
    }
   ],
   "source": [
    "for file in tqdm(files):\n",
    "    tks = os.path.normpath(file).split(os.path.sep)\n",
    "    city, zoom, i, j = tks[-4], int(tks[-3]), int(tks[-2]), int(tks[-1][:-4])\n",
    "    \n",
    "    folder = '%s/%s/%d/%d/'%(outfolder,city,zoom,i)\n",
    "    outfile = folder+'/%d.jpg'%(j)\n",
    "    if os.path.exists(outfile):\n",
    "        continue\n",
    "    \n",
    "    img = cv2.imread(file)\n",
    "    \n",
    "    if img is None:\n",
    "        print(file)\n",
    "    else:\n",
    "        folder = '%s/%s/%d/%d/'%(outfolder,city,zoom,i)\n",
    "        if not os.path.exists(folder):\n",
    "            os.makedirs(folder)\n",
    "\n",
    "        cv2.imwrite(outfile, img[:,:,0], [cv2.IMWRITE_JPEG_QUALITY, 50])\n"
   ]
  }
 ],
 "metadata": {
  "kernelspec": {
   "display_name": "Python 3 (ipykernel)",
   "language": "python",
   "name": "python3"
  },
  "language_info": {
   "codemirror_mode": {
    "name": "ipython",
    "version": 3
   },
   "file_extension": ".py",
   "mimetype": "text/x-python",
   "name": "python",
   "nbconvert_exporter": "python",
   "pygments_lexer": "ipython3",
   "version": "3.9.12"
  }
 },
 "nbformat": 4,
 "nbformat_minor": 5
}
