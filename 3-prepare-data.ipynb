{
 "cells": [
  {
   "cell_type": "code",
   "execution_count": 1,
   "id": "31170642",
   "metadata": {},
   "outputs": [],
   "source": [
    "import re\n",
    "import glob\n",
    "import pandas as pd\n",
    "import tensorflow as tf"
   ]
  },
  {
   "cell_type": "code",
   "execution_count": 41,
   "id": "86810314",
   "metadata": {},
   "outputs": [],
   "source": [
    "shadow_path = 'data/%s-%s/'\n",
    "height_path = 'data/%s-heights/'\n",
    "\n",
    "cities = ['nyc', 'bos', 'chi', 'la', 'dc']\n",
    "dates = ['jun-21','sep-22','dec-21']\n",
    "zooms = [14,15,16,17]"
   ]
  },
  {
   "cell_type": "code",
   "execution_count": 65,
   "id": "47e772d3",
   "metadata": {},
   "outputs": [],
   "source": [
    "def load(city, zoom, i, j):\n",
    "    \n",
    "    # Read and decode an image file to a uint8 tensor\n",
    "    filename = tf.strings.format('{}/{}/{}/{}.png',((height_path)%city,zoom,i,j))\n",
    "    filename = tf.strings.regex_replace(filename,'\\\"', \"\")\n",
    "    input_image = tf.io.read_file(filename)\n",
    "    input_image = tf.io.decode_png(input_image)[:,:,0]\n",
    "    \n",
    "    filename = tf.strings.format('{}/{}/{}/{}.png',(shadow_path%(city,date),zoom,i,j))\n",
    "    filename = tf.strings.regex_replace(filename,'\\\"', \"\")\n",
    "    real_image = tf.io.read_file(filename)\n",
    "    real_image = tf.io.decode_png(real_image)[:,:,0]\n",
    "    real_image = tf.experimental.numpy.where(input_image<=0, real_image, 0)    \n",
    "    \n",
    "    input_image = tf.reshape(input_image, (256, 256, 1))\n",
    "    input_image = tf.image.grayscale_to_rgb(input_image)\n",
    "    \n",
    "    real_image = tf.reshape(real_image, (256, 256, 1))\n",
    "    real_image = tf.image.grayscale_to_rgb(real_image)\n",
    "\n",
    "    # Convert both images to float32 tensors\n",
    "    input_image = tf.cast(input_image, tf.float32)\n",
    "    real_image = tf.cast(real_image, tf.float32)\n",
    "    \n",
    "    return input_image, real_image\n",
    "\n",
    "def create_dataset(city, date, zoom):\n",
    "    \n",
    "    matched_files = []\n",
    "    all_files = glob.glob((shadow_path+'/%d/*/*.png')%(city, date, zoom))\n",
    "    count_mistmatches = 0\n",
    "    for path in all_files:\n",
    "        match = True\n",
    "\n",
    "        tks = re.findall(r'\\d+', path)\n",
    "        zoom, i, j = int(tks[-3]), int(tks[-2]), int(tks[-1])\n",
    "\n",
    "        try:\n",
    "            input_image, real_image = load(city, zoom, i, j)\n",
    "            \n",
    "            input_max = input_image.numpy().max()\n",
    "            real_max = real_image.numpy().max()\n",
    "\n",
    "            if input_max > 0 and real_max <= 0:\n",
    "                match = False\n",
    "            if real_max > 0 and input_max <= 0:\n",
    "                match = False\n",
    "        except Exception as e:\n",
    "            print(e)\n",
    "            match = False\n",
    "\n",
    "\n",
    "        if match:\n",
    "            matched_files.append((city, date, zoom, i, j))\n",
    "        else:\n",
    "            count_mistmatches+=1\n",
    "\n",
    "    print(city, date, len(matched_files), count_mistmatches)\n",
    "    \n",
    "    return matched_files"
   ]
  },
  {
   "cell_type": "code",
   "execution_count": 66,
   "id": "c946c727",
   "metadata": {},
   "outputs": [
    {
     "name": "stdout",
     "output_type": "stream",
     "text": [
      "nyc dec-21 1676 1028\n"
     ]
    }
   ],
   "source": [
    "for city in cities:\n",
    "    for date in dates:\n",
    "        for zoom in zooms:\n",
    "            all_dataset = create_dataset(city, date, zoom)\n",
    "            df = pd.DataFrame(all_dataset, columns=['city', 'date', 'zoom', 'i', 'j'])\n",
    "            df.to_csv('data/%s-%s-%d.csv'%(city,date,zoom), index=False, header=True)"
   ]
  }
 ],
 "metadata": {
  "kernelspec": {
   "display_name": "Python 3 (ipykernel)",
   "language": "python",
   "name": "python3"
  },
  "language_info": {
   "codemirror_mode": {
    "name": "ipython",
    "version": 3
   },
   "file_extension": ".py",
   "mimetype": "text/x-python",
   "name": "python",
   "nbconvert_exporter": "python",
   "pygments_lexer": "ipython3",
   "version": "3.9.6"
  }
 },
 "nbformat": 4,
 "nbformat_minor": 5
}
