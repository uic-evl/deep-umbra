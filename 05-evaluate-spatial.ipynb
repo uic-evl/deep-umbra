{
 "cells": [
  {
   "cell_type": "code",
   "execution_count": null,
   "id": "68e84a0a",
   "metadata": {},
   "outputs": [],
   "source": [
    "import os\n",
    "import re\n",
    "import pathlib\n",
    "import time\n",
    "import itertools\n",
    "import glob\n",
    "import datetime\n",
    "import matplotlib.pyplot as plt\n",
    "import tensorflow as tf\n",
    "import numpy as np\n",
    "from IPython import display\n",
    "\n",
    "from deep_shadow import *\n",
    "from utils import *\n",
    "\n",
    "%load_ext autoreload\n",
    "%autoreload 2"
   ]
  },
  {
   "cell_type": "code",
   "execution_count": null,
   "id": "be5bb0f8",
   "metadata": {},
   "outputs": [],
   "source": [
    "cities = ['la','bos','nyc','chi','sp', 'bue', 'joh', 'syd', 'tok', 'par', 'mex', 'sea', 'aus']\n",
    "dates = ['winter', 'spring', 'summer']\n",
    "zoom = 16\n",
    "shadow_path = 'data/shadows/'\n",
    "height_path = 'data/heights/'\n",
    "checkpoint_name = 'evaluation_new/uniform_cities'\n",
    "checkpoint_path = 'training_checkpoints/%s'%(checkpoint_name)\n",
    "\n",
    "TILES_PER_CITY = 270\n",
    "BATCH_SIZE = 1\n",
    "\n",
    "if not os.path.exists('results/'):\n",
    "    os.mkdir('results/')"
   ]
  },
  {
   "cell_type": "code",
   "execution_count": null,
   "id": "a32a47e4",
   "metadata": {},
   "outputs": [],
   "source": [
    "deep_shadow = DeepShadow(512,512)\n",
    "deep_shadow.restore(checkpoint_path)"
   ]
  },
  {
   "cell_type": "code",
   "execution_count": null,
   "id": "22ab8160",
   "metadata": {},
   "outputs": [],
   "source": [
    "train_dataset, test_dataset = get_train_test(height_path, shadow_path, cities, dates, zoom, TILES_PER_CITY, BATCH_SIZE)"
   ]
  },
  {
   "cell_type": "code",
   "execution_count": 12,
   "id": "bea36fc7",
   "metadata": {
    "scrolled": true
   },
   "outputs": [
    {
     "name": "stdout",
     "output_type": "stream",
     "text": [
      "(1, 512, 512, 1) (1, 512, 512, 1) (1, 512, 512, 1)\n",
      "(1, 512, 512, 1) (1, 512, 512, 1) (1, 512, 512, 1)\n",
      "(1, 512, 512, 1) (1, 512, 512, 1) (1, 512, 512, 1)\n",
      "(1, 512, 512, 1) (1, 512, 512, 1) (1, 512, 512, 1)\n",
      "(1, 512, 512, 1) (1, 512, 512, 1) (1, 512, 512, 1)\n"
     ]
    }
   ],
   "source": [
    "for example_input, example_target, example_lat, example_dat in test_dataset.take(5):\n",
    "    print(example_input.shape, example_lat.shape, example_dat.shape)\n",
    "#     generate_images(deep_shadow.generator, example_input, example_lat, example_dat, example_target)"
   ]
  },
  {
   "cell_type": "code",
   "execution_count": null,
   "id": "84ec5de3",
   "metadata": {},
   "outputs": [],
   "source": [
    "rmses, maes = get_metrics(test_dataset, deep_shadow.generator)\n",
    "    \n",
    "print(np.average(rmses), np.average(maes))\n",
    "df = pd.DataFrame({'rmse': rmses, 'mae': maes})\n",
    "\n",
    "filepath = 'results/%s-%d.csv'%(checkpoint_name,zoom)\n",
    "if not os.path.exists(os.path.dirname(filepath)):\n",
    "    os.mkdir(os.path.dirname(filepath))\n",
    "        \n",
    "df.to_csv(filepath, index=False, header=True)"
   ]
  }
 ],
 "metadata": {
  "kernelspec": {
   "display_name": "Python 3 (ipykernel)",
   "language": "python",
   "name": "python3"
  },
  "language_info": {
   "codemirror_mode": {
    "name": "ipython",
    "version": 3
   },
   "file_extension": ".py",
   "mimetype": "text/x-python",
   "name": "python",
   "nbconvert_exporter": "python",
   "pygments_lexer": "ipython3",
   "version": "3.9.12"
  }
 },
 "nbformat": 4,
 "nbformat_minor": 5
}
