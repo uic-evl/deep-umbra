{
 "cells": [
  {
   "cell_type": "code",
   "execution_count": 5,
   "id": "d315b578",
   "metadata": {},
   "outputs": [],
   "source": [
    "import geopandas as gpd\n",
    "import time\n",
    "from dask_elevation_map import run"
   ]
  },
  {
   "cell_type": "code",
   "execution_count": null,
   "id": "61161cdc",
   "metadata": {},
   "outputs": [
    {
     "name": "stderr",
     "output_type": "stream",
     "text": [
      "/root/anaconda3/envs/deepShadow/lib/python3.9/site-packages/dask/dataframe/utils.py:291: FutureWarning: The default dtype for empty Series will be 'object' instead of 'float64' in a future version. Specify a dtype explicitly to silence this warning.\n",
      "  return pd.Series([], dtype=dtype, name=name, index=index)\n"
     ]
    }
   ],
   "source": [
    "cities = ['nyc', 'dc', 'la', 'chi', 'bos']\n",
    "zooms = range(14,18)\n",
    "max_height = 550\n",
    "\n",
    "t = time.time()\n",
    "count = 0\n",
    "for city in cities:\n",
    "    for zoom in zooms:\n",
    "        gdf = gpd.read_feather('/data/osm/%s.feather'%city)\n",
    "        run(gdf, zoom, max_height, '/data/heights_v3/%s/'%city)\n",
    "        \n",
    "print(f\"{(time.time() - t)/60:.2f} minutes\")"
   ]
  },
  {
   "cell_type": "code",
   "execution_count": null,
   "id": "a0ea4d4f",
   "metadata": {},
   "outputs": [],
   "source": []
  }
 ],
 "metadata": {
  "kernelspec": {
   "display_name": "deepShadow",
   "language": "python",
   "name": "deepshadow"
  },
  "language_info": {
   "codemirror_mode": {
    "name": "ipython",
    "version": 3
   },
   "file_extension": ".py",
   "mimetype": "text/x-python",
   "name": "python",
   "nbconvert_exporter": "python",
   "pygments_lexer": "ipython3",
   "version": "3.9.12"
  }
 },
 "nbformat": 4,
 "nbformat_minor": 5
}
