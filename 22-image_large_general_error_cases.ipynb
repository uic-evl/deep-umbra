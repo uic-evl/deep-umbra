{
 "cells": [
  {
   "cell_type": "code",
   "execution_count": null,
   "metadata": {},
   "outputs": [],
   "source": [
    "import glob\n",
    "import random\n",
    "import cv2\n",
    "import tensorflow as tf\n",
    "import numpy as np\n",
    "import pandas as pd\n",
    "import matplotlib.pyplot as plt\n",
    "from matplotlib.colors import LinearSegmentedColormap\n",
    "from tqdm.notebook import trange, tqdm"
   ]
  },
  {
   "cell_type": "code",
   "execution_count": null,
   "metadata": {},
   "outputs": [],
   "source": [
    "# for tile_heights folder for each city, calculate the rmse for summer, spring, winter \n",
    "\n",
    "files = glob.glob('data/tile_heights/*.csv')\n",
    "\n",
    "for file in tqdm(files, total=len(files), leave=False):\n",
    "    file = file.replace('\\\\','/')\n",
    "    tiles = pd.read_csv(file)\n",
    "    city = file.split('/')[-1].split('.')[0].split('-')[0]\n",
    "\n",
    "    # create three columns for summer, spring, winter and add rmse values for each tile for three seasons\n",
    "    tiles['summer'], tiles['spring'], tiles['winter'] = 0, 0, 0\n",
    "\n",
    "    # iter tiles df\n",
    "    for index, row in tqdm(tiles.iterrows(), total=tiles.shape[0], leave=False):\n",
    "        # get i, j\n",
    "        i = int(row['i'])\n",
    "        j = int(row['j'])\n",
    "        seasons = ['summer', 'spring', 'winter']\n",
    "        for season in seasons:\n",
    "            \n",
    "            heights = np.empty([256, 256])\n",
    "            img = cv2.imread('data/heights_new/%s/16/%d/%d.png'%(city,i,j)) \n",
    "            heights = img[:,:,0]\n",
    "\n",
    "            img = cv2.imread('data/shadows_new/%s-%s/16/%d/%d.png'%(city,season,i,j)) \n",
    "            values_gan = img[:,:,0]\n",
    "            values_gan[heights>0] = 0\n",
    "\n",
    "            img = cv2.imread('data/shadows/%s-%s/16/%d/%d.png'%(city,season,i,j))\n",
    "            values_true = img[:,:,0]\n",
    "            values_true[heights>0] = 0\n",
    "\n",
    "            target = values_true/255    #[:,128:-128,128:-128,:]\n",
    "            target = target.astype(np.float32)\n",
    "            prediction = values_gan/255     #[:,128:-128,128:-128,:]\n",
    "            prediction = prediction.astype(np.float32)\n",
    "\n",
    "            mse = np.mean((target-prediction) ** 2)\n",
    "            rmse = np.sqrt(mse)\n",
    "            tiles.at[index, season] = rmse # in place update of row[season]\n",
    "\n",
    "    tiles.to_csv('data/tile_heights/%s-16.csv'%city, index=False)"
   ]
  },
  {
   "cell_type": "code",
   "execution_count": null,
   "metadata": {},
   "outputs": [],
   "source": [
    "# combine all cities together in one dataframe\n",
    "files = glob.glob('data/tile_heights/*.csv')\n",
    "df = pd.DataFrame()\n",
    "for file in tqdm(files, total=len(files), leave=False):\n",
    "    file = file.replace('\\\\','/')\n",
    "    city = file.split('/')[-1].split('.')[0].split('-')[0]\n",
    "    tiles = pd.read_csv(file)\n",
    "    tiles['city'] = city\n",
    "    # without append\n",
    "    df = pd.concat([df, tiles], ignore_index=True)"
   ]
  },
  {
   "cell_type": "code",
   "execution_count": null,
   "metadata": {},
   "outputs": [],
   "source": [
    "df['avg'] = df[['summer', 'spring', 'winter']].mean(axis=1)\n",
    "df"
   ]
  },
  {
   "cell_type": "code",
   "execution_count": null,
   "metadata": {},
   "outputs": [],
   "source": [
    "# find quantiles of avg rmse\n",
    "rmse_quantiles = df['avg'].quantile([0, 0.25, 0.5, 0.75, 1]).to_list()\n",
    "rmse_iqr = rmse_quantiles[3] - rmse_quantiles[1]\n",
    "print(rmse_quantiles)\n",
    "print(rmse_iqr* 1.5)"
   ]
  },
  {
   "cell_type": "code",
   "execution_count": null,
   "metadata": {},
   "outputs": [],
   "source": [
    "height_quantiles = df['height'].quantile([0, 0.25, 0.5, 0.75, 1]).to_list()\n",
    "height_iqr = height_quantiles[3] - height_quantiles[1]\n",
    "print(height_quantiles)"
   ]
  },
  {
   "cell_type": "code",
   "execution_count": null,
   "metadata": {},
   "outputs": [],
   "source": [
    "df[(df['avg']<=rmse_quantiles[3]) & (df['height']<=height_quantiles[2]) & (df['city'] == 'chi')]"
   ]
  },
  {
   "cell_type": "code",
   "execution_count": null,
   "metadata": {},
   "outputs": [],
   "source": [
    "colors = [(1, 1, 1), (0, 0, 0)]\n",
    "cmap_g = LinearSegmentedColormap.from_list('colorscale', colors, N=256)\n",
    "\n",
    "colors = [(1, 1, 1), (254/255,204/255,92/255), (253/255,141/255,60/255), (240/255,59/255,32/255), (189/255,0,38/255)]\n",
    "cmap_r = LinearSegmentedColormap.from_list('colorscale', colors, N=100)"
   ]
  },
  {
   "cell_type": "code",
   "execution_count": null,
   "metadata": {},
   "outputs": [],
   "source": [
    "test = df[(df['avg']>rmse_iqr* 1.5) & (df['city'] == 'chi') & (df['height']<=6.5)]\n",
    "print(len(test))\n",
    "# (df['avg']<=rmse_quantiles[3])\n",
    "# (df['avg']>rmse_iqr* 1.5)\n",
    "# & (df['height']<=height_quantiles[2])\n",
    "\n",
    "# iter test. pick random 50\n",
    "test = test.sample(n=50, random_state=1, replace=False)\n",
    "for index, row in tqdm(test.iterrows(), total=test.shape[0], leave=False):\n",
    "    # get i, j\n",
    "    i = int(row['i'])\n",
    "    j = int(row['j'])\n",
    "    height = float(row['height'])\n",
    "    avg = float(row['avg'])\n",
    "\n",
    "    print(i,j, height, avg)\n",
    "    city = 'chi'\n",
    "    season = 'winter'\n",
    "\n",
    "    heights = np.empty([256, 256])\n",
    "    img = cv2.imread('data/heights_new/%s/16/%d/%d.png'%(city,i,j))\n",
    "    heights = img[:,:,0]\n",
    "\n",
    "\n",
    "    img = cv2.imread('data/shadows_new/%s-%s/16/%d/%d.png'%(city,season,i,j))\n",
    "    values_gan = img[:,:,0]\n",
    "    values_gan[heights>0] = 0\n",
    "\n",
    "    img = cv2.imread('data/shadows/%s-%s/16/%d/%d.png'%(city,season,i,j))\n",
    "    values_true = img[:,:,0]\n",
    "    values_true[heights>0] = 0\n",
    "\n",
    "    # subplot the three\n",
    "    fig, (ax1, ax2, ax3) = plt.subplots(1, 3, figsize=(15, 5))\n",
    "    ax1.imshow(heights/np.max(heights), cmap=cmap_g)\n",
    "    ax2.imshow(values_gan, cmap=cmap_r)\n",
    "    ax3.imshow(values_true, cmap=cmap_r)\n",
    "\n",
    "    plt.show()\n"
   ]
  },
  {
   "cell_type": "code",
   "execution_count": null,
   "metadata": {},
   "outputs": [],
   "source": [
    "# chi:\n",
    "# small error: 16798 24361, 16798 24351, 16825 24384\n",
    "# large error: 16814 24372, 16818 24354, 16815 24352\n",
    "\n",
    "arr = [['chi', 16798, 24361], ['chi', 16798, 24351], ['chi', 16825, 24384], ['chi', 16814, 24372], ['chi', 16818, 24354], ['chi', 16815, 24352]]"
   ]
  },
  {
   "cell_type": "code",
   "execution_count": null,
   "metadata": {},
   "outputs": [],
   "source": [
    "# tok:\n",
    "# small error 58195 25809, 58233 25819, 58218 25808\n",
    "# large error 58206 25810, 58212 25805, 58198 25805, 58207 25807, 58204 25820\n",
    "\n",
    "# extend arr with tok cases\n",
    "arr.extend([['tok', 58195, 25809], ['tok', 58233, 25819], ['tok', 58218, 25808], ['tok', 58206, 25810], ['tok', 58212, 25805], ['tok', 58198, 25805], ['tok', 58207, 25807], ['tok', 58204, 25820]])"
   ]
  },
  {
   "cell_type": "code",
   "execution_count": null,
   "metadata": {},
   "outputs": [],
   "source": [
    "# bue:\n",
    "# small error: 22140 39495, 22138 39491, 22144 39496\n",
    "# large error: 22141 39488, 22128 39503, 22143 39491, 22141 39489\n",
    "\n",
    "arr.extend([['bue', 22140, 39495], ['bue', 22138, 39491], ['bue', 22144, 39496], ['bue', 22141, 39488], ['bue', 22128, 39503], ['bue', 22143, 39491], ['bue', 22141, 39489]])"
   ]
  },
  {
   "cell_type": "code",
   "execution_count": null,
   "metadata": {},
   "outputs": [],
   "source": [
    "# Folders like chi_16798_24351/summer, chi_16798_24351/spring, chi_16798_24351/winter\n",
    "# And then inside each folder, put heights, values_gan, values_true\n",
    "\n",
    "seasons = ['summer', 'spring', 'winter']\n",
    "for city, i, j in tqdm(arr, total=len(arr), leave=False):\n",
    "    for season in seasons:\n",
    "        heights = np.empty([256, 256])\n",
    "        img = cv2.imread('data/heights_new/%s/16/%d/%d.png'%(city,i,j))\n",
    "        heights = img[:,:,0]\n",
    "\n",
    "\n",
    "        img = cv2.imread('data/shadows_new/%s-%s/16/%d/%d.png'%(city,season,i,j))\n",
    "        values_gan = img[:,:,0]\n",
    "        values_gan[heights>0] = 0\n",
    "\n",
    "        img = cv2.imread('data/shadows/%s-%s/16/%d/%d.png'%(city,season,i,j))\n",
    "        values_true = img[:,:,0]\n",
    "        values_true[heights>0] = 0\n",
    "\n",
    "        # save to folder. plt axis off\n",
    "        folder = 'data/plots/fig4/%s_%d_%d/%s'%(city,i,j,season)\n",
    "        if not os.path.exists(folder):\n",
    "            os.makedirs(folder)\n",
    "\n",
    "        plt.imshow(heights, cmap=cmap_g)\n",
    "        plt.axis('off')\n",
    "        plt.savefig('%s/heights.png'%folder, bbox_inches='tight', pad_inches=0)\n",
    "        plt.close()\n",
    "\n",
    "        plt.imshow(values_gan, cmap=cmap_r)\n",
    "        plt.axis('off')\n",
    "        plt.savefig('%s/values_gan.png'%folder, bbox_inches='tight', pad_inches=0)\n",
    "        plt.close()\n",
    "\n",
    "        plt.imshow(values_true, cmap=cmap_r)\n",
    "        plt.axis('off')\n",
    "        plt.savefig('%s/values_true.png'%folder, bbox_inches='tight', pad_inches=0)\n",
    "        plt.close()\n"
   ]
  }
 ],
 "metadata": {
  "language_info": {
   "name": "python"
  },
  "orig_nbformat": 4
 },
 "nbformat": 4,
 "nbformat_minor": 2
}
