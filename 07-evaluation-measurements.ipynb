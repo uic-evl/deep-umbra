{
 "cells": [
  {
   "cell_type": "code",
   "execution_count": 1,
   "id": "f9c64ff8",
   "metadata": {},
   "outputs": [],
   "source": [
    "import glob\n",
    "import pandas as pd\n",
    "import numpy as np\n"
   ]
  },
  {
   "cell_type": "code",
   "execution_count": 2,
   "id": "87474c0e",
   "metadata": {},
   "outputs": [],
   "source": [
    "files = glob.glob('results/evaluation_new-16/*.csv')"
   ]
  },
  {
   "cell_type": "code",
   "execution_count": 14,
   "id": "7b7d98a9",
   "metadata": {},
   "outputs": [
    {
     "name": "stdout",
     "output_type": "stream",
     "text": [
      "la - rmse: 0.109 (0.055), mae: 0.041 (0.055)\n",
      "bos - rmse: 0.088 (0.049), mae: 0.031 (0.049)\n",
      "dc - rmse: 0.092 (0.049), mae: 0.033 (0.049)\n",
      "nyc - rmse: 0.097 (0.050), mae: 0.036 (0.050)\n",
      "chi - rmse: 0.107 (0.052), mae: 0.038 (0.052)\n",
      "sp - rmse: 0.115 (0.064), mae: 0.050 (0.064)\n",
      "bue - rmse: 0.045 (0.036), mae: 0.014 (0.036)\n",
      "joh - rmse: 0.043 (0.039), mae: 0.014 (0.039)\n",
      "syd - rmse: 0.052 (0.053), mae: 0.018 (0.053)\n",
      "tok - rmse: 0.101 (0.052), mae: 0.048 (0.052)\n",
      "par - rmse: 0.139 (0.073), mae: 0.074 (0.073)\n",
      "mex - rmse: 0.039 (0.037), mae: 0.011 (0.037)\n",
      "sea - rmse: 0.079 (0.037), mae: 0.043 (0.037)\n",
      "aus - rmse: 0.075 (0.036), mae: 0.036 (0.036)\n"
     ]
    }
   ],
   "source": [
    "cities = ['la', 'bos', 'dc', 'nyc', 'chi', 'sp', 'bue',\n",
    "          'joh', 'syd', 'tok', 'par', 'mex', 'sea', 'aus']\n",
    "for city in cities:\n",
    "    df = pd.read_csv('results/evaluation-16/%s.csv' % city)\n",
    "    mean = df.mean()\n",
    "    std = df.std()\n",
    "    print('%s - rmse: %.3f (%.3f), mae: %.3f (%.3f)' %\n",
    "          (city, mean['rmse'], std['rmse'], mean['mae'], std['rmse']))\n"
   ]
  },
  {
   "cell_type": "code",
   "execution_count": 19,
   "id": "13bc966d",
   "metadata": {},
   "outputs": [
    {
     "name": "stdout",
     "output_type": "stream",
     "text": [
      "k-fold - rmse: 0.071 (0.002), mae: 0.026 (0.001)\n"
     ]
    }
   ],
   "source": [
    "files = glob.glob('results/evaluation-16/fold_*')\n",
    "rmses = []\n",
    "maes = []\n",
    "for file in files:\n",
    "    df = pd.read_csv(file)\n",
    "    mean = df.mean()\n",
    "    rmses.append(mean['rmse'])\n",
    "    maes.append(mean['mae'])\n",
    "mean = np.mean(rmses)\n",
    "std = df.std()\n",
    "print('k-fold - rmse: %.3f (%.3f), mae: %.3f (%.3f)' %\n",
    "      (np.mean(rmses), np.std(rmses), np.mean(maes), np.std(maes)))\n"
   ]
  },
  {
   "cell_type": "code",
   "execution_count": 3,
   "id": "a5c0e7a6",
   "metadata": {},
   "outputs": [
    {
     "name": "stdout",
     "output_type": "stream",
     "text": [
      "uniform k-fold - rmse: 0.06246 (0.00110), mae: 0.02522 (0.00070), mses: 0.00556 (0.00018)\n"
     ]
    }
   ],
   "source": [
    "# Paper\n",
    "\n",
    "files = glob.glob('results/evaluation_new-16/uniform_fold_*')\n",
    "rmses = []\n",
    "maes = []\n",
    "mses = []\n",
    "for file in files:\n",
    "    df = pd.read_csv(file)\n",
    "    mean = df.mean()\n",
    "    rmses.append(mean['rmse'])\n",
    "    maes.append(mean['mae'])\n",
    "    mses.append(mean['mses'])\n",
    "\n",
    "print('uniform k-fold - rmse: %.5f (%.5f), mae: %.5f (%.5f), mses: %.5f (%.5f)' %\n",
    "      (np.mean(rmses), np.std(rmses), np.mean(maes), np.std(maes), np.mean(mses), np.std(mses)))\n"
   ]
  },
  {
   "cell_type": "code",
   "execution_count": 4,
   "id": "f285ab64",
   "metadata": {},
   "outputs": [
    {
     "name": "stdout",
     "output_type": "stream",
     "text": [
      "uniform dc - rmse: 0.08608 (0.05214), mae: 0.03379 (0.02580), mses: 0.01013 (0.01533)\n",
      "uniform nyc - rmse: 0.09283 (0.04498), mae: 0.04232 (0.02672), mses: 0.01064 (0.01096)\n",
      "uniform joh - rmse: 0.03056 (0.02601), mae: 0.01043 (0.01491), mses: 0.00161 (0.00641)\n",
      "uniform bue - rmse: 0.04868 (0.03709), mae: 0.01519 (0.02021), mses: 0.00374 (0.00738)\n",
      "uniform bos - rmse: 0.08246 (0.05252), mae: 0.03374 (0.02595), mses: 0.00956 (0.01421)\n",
      "uniform sea - rmse: 0.07077 (0.03226), mae: 0.03960 (0.02058), mses: 0.00605 (0.00614)\n",
      "uniform tok - rmse: 0.09014 (0.04835), mae: 0.04570 (0.03009), mses: 0.01046 (0.01140)\n",
      "uniform - rmse: 0.07165 (0.02182), mae: 0.03154 (0.01256), mses: 0.00746 (0.00339)\n"
     ]
    }
   ],
   "source": [
    "# Paper\n",
    "\n",
    "cities = ['dc', 'nyc', 'joh', 'bue', 'bos', 'sea', 'tok']\n",
    "rmses = []\n",
    "maes = []\n",
    "mses = []\n",
    "for city in cities:\n",
    "    df = pd.read_csv('results/evaluation_new-16/uniform_'+city+'.csv')\n",
    "    mean = df.mean()\n",
    "    std = df.std()\n",
    "    rmses.append(mean['rmse'])\n",
    "    maes.append(mean['mae'])\n",
    "    mses.append(mean['mses'])\n",
    "    print('uniform %s - rmse: %.5f (%.5f), mae: %.5f (%.5f), mses: %.5f (%.5f)' %\n",
    "          (city, mean['rmse'], std['rmse'], mean['mae'], std['mae'], mean['mses'], std['mses']))\n",
    "\n",
    "print('uniform - rmse: %.5f (%.5f), mae: %.5f (%.5f), mses: %.5f (%.5f)' %\n",
    "      (np.mean(rmses), np.std(rmses), np.mean(maes), np.std(maes), np.mean(mses), np.std(mses)))\n"
   ]
  }
 ],
 "metadata": {
  "kernelspec": {
   "display_name": "Python 3 (ipykernel)",
   "language": "python",
   "name": "python3"
  },
  "language_info": {
   "codemirror_mode": {
    "name": "ipython",
    "version": 3
   },
   "file_extension": ".py",
   "mimetype": "text/x-python",
   "name": "python",
   "nbconvert_exporter": "python",
   "pygments_lexer": "ipython3",
   "version": "3.9.16"
  }
 },
 "nbformat": 4,
 "nbformat_minor": 5
}
