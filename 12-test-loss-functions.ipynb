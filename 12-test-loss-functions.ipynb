{
 "cells": [
  {
   "cell_type": "code",
   "execution_count": 2,
   "metadata": {},
   "outputs": [
    {
     "name": "stdout",
     "output_type": "stream",
     "text": [
      "The autoreload extension is already loaded. To reload it, use:\n",
      "  %reload_ext autoreload\n"
     ]
    }
   ],
   "source": [
    "import matplotlib.pyplot as plt\n",
    "import tensorflow as tf\n",
    "import pandas as pd\n",
    "import numpy as np\n",
    "from IPython import display\n",
    "\n",
    "from deep_shadow import *\n",
    "from utils import *\n",
    "\n",
    "%load_ext autoreload\n",
    "%autoreload 2"
   ]
  },
  {
   "attachments": {},
   "cell_type": "markdown",
   "metadata": {},
   "source": [
    "### Loading Dataset"
   ]
  },
  {
   "cell_type": "code",
   "execution_count": 3,
   "metadata": {},
   "outputs": [],
   "source": [
    "cities = ['nyc']\n",
    "dates = ['summer']\n",
    "\n",
    "zoom = 16\n",
    "shadow_path = 'data/shadows/'\n",
    "height_path = 'data/heights_new/'\n",
    "\n",
    "TILES_PER_CITY = 200\n",
    "BATCH_SIZE = 1"
   ]
  },
  {
   "cell_type": "code",
   "execution_count": 5,
   "metadata": {},
   "outputs": [],
   "source": [
    "train_dataset, test_dataset = get_train_test(\n",
    "    height_path, shadow_path, cities, dates, zoom, TILES_PER_CITY, BATCH_SIZE)"
   ]
  },
  {
   "attachments": {},
   "cell_type": "markdown",
   "metadata": {},
   "source": [
    "### Latitude and date inclusion"
   ]
  },
  {
   "cell_type": "code",
   "execution_count": 6,
   "metadata": {},
   "outputs": [],
   "source": [
    "lat, dat = False, False"
   ]
  },
  {
   "attachments": {},
   "cell_type": "markdown",
   "metadata": {},
   "source": [
    "### Store Model Results"
   ]
  },
  {
   "cell_type": "code",
   "execution_count": 12,
   "metadata": {},
   "outputs": [],
   "source": [
    "def store_result(checkpoint_name, deep_shadow, test_dataset, lat, dat):\n",
    "    df = pd.read_csv('data/compare_models/results.csv')\n",
    "    rmses, maes, mses, ssims, sobels = get_metrics(test_dataset, deep_shadow.generator, latitude=lat, date=dat)\n",
    "    df.loc[len(df.index)] = [checkpoint_name, np.average(maes), np.average(mses), np.average(rmses), np.average(ssims), np.average(sobels)] \n",
    "    df.to_csv('data/compare_models/results.csv', index=False)\n",
    "\n",
    "    # print('MAE: %.4f' % np.average(maes), 'MSE: %.4f' % np.average(mses), 'RMSE: %.4f' % np.average(rmses), 'SSIM: %.4f' % np.average(ssims), 'Sobel: %.4f' % np.average(sobels))\n",
    "\n",
    "    return"
   ]
  },
  {
   "attachments": {},
   "cell_type": "markdown",
   "metadata": {},
   "source": [
    "### Train models with different loss functions and save results"
   ]
  },
  {
   "cell_type": "code",
   "execution_count": 14,
   "metadata": {},
   "outputs": [],
   "source": [
    "checkpoint_names = ['_l1', '_l2', '_l1_smooth_loss', '_ssim', '_sobel', '_ssim_with_sobel', '_ssim_l1_smooth_loss', '_ssim_l1_loss', '_ssim_sobel_plus_l1', '_berhu']\n",
    "loss_functions = [[l1_loss], [l2_loss], [l1_smooth_loss], [ssim_loss], [sobel_loss], [ssim_loss, sobel_loss], [ssim_loss, l1_smooth_loss], [ssim_loss, l1_loss], [ssim_loss, sobel_loss, l1_loss], [berhu_loss]]\n",
    "\n",
    "for i in range(len(checkpoint_names)):\n",
    "    tf.keras.backend.clear_session()\n",
    "\n",
    "    down_stack, up_stack = get_generator_arch('resnet9', attn=False)\n",
    "    \n",
    "    train_dataset, test_dataset = get_train_test(\n",
    "    height_path, shadow_path, cities, dates, zoom, TILES_PER_CITY, BATCH_SIZE)\n",
    "\n",
    "    checkpoint_name = 'test' + checkpoint_names[i]\n",
    "    checkpoint_path = 'training_checkpoints/%s' % (checkpoint_name)\n",
    "    deep_shadow = DeepShadow(512, 512, down_stack, up_stack, latitude=lat, date=dat, loss_funcs=loss_functions[i], type='unet', attention=False, model_name=checkpoint_name)\n",
    "    deep_shadow.fit(checkpoint_path, train_dataset, test_dataset, 40000)\n",
    "\n",
    "    deep_shadow.restore(checkpoint_path)\n",
    "    store_result(checkpoint_name, deep_shadow, test_dataset, lat, dat)"
   ]
  }
 ],
 "metadata": {
  "kernelspec": {
   "display_name": "Python 3",
   "language": "python",
   "name": "python3"
  },
  "language_info": {
   "codemirror_mode": {
    "name": "ipython",
    "version": 3
   },
   "file_extension": ".py",
   "mimetype": "text/x-python",
   "name": "python",
   "nbconvert_exporter": "python",
   "pygments_lexer": "ipython3",
   "version": "3.9.16"
  },
  "orig_nbformat": 4
 },
 "nbformat": 4,
 "nbformat_minor": 2
}
