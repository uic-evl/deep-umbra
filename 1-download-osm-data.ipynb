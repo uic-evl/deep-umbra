{
 "cells": [
  {
   "cell_type": "code",
   "execution_count": 1,
   "id": "aaa1030b",
   "metadata": {},
   "outputs": [],
   "source": [
    "import subprocess\n",
    "import osmium\n",
    "import re\n",
    "\n",
    "import geopandas as gpd\n",
    "import pandas as pd\n",
    "\n",
    "from geopy.geocoders import Nominatim"
   ]
  },
  {
   "cell_type": "code",
   "execution_count": 59,
   "id": "3736af37",
   "metadata": {},
   "outputs": [],
   "source": [
    "LEVEL_HEIGHT = 3.4\n",
    "\n",
    "# https://wiki.openstreetmap.org/wiki/Simple_3D_buildings#Other_roof_tags\n",
    "def _feet_to_meters(s):\n",
    "    r = re.compile(\"([0-9]*\\.?[0-9]+)'([0-9]*\\.?[0-9]+)?\\\"?\")\n",
    "    m = r.findall(s)[0]\n",
    "    if len(m[0]) > 0 and len(m[1]) > 0:\n",
    "        m = float(m[0]) + float(m[1]) / 12.0\n",
    "    elif len(m[0]) > 0:\n",
    "        m = float(m[0])\n",
    "    return m * 0.3048\n",
    "\n",
    "def _get_height(tags):\n",
    "    if 'height' in tags:\n",
    "        # already accounts for roof\n",
    "        if '\\'' in tags['height'] or '\\\"' in tags['height']:\n",
    "            return _feet_to_meters(tags['height'])\n",
    "        r = re.compile(r\"[-+]?\\d*\\.\\d+|\\d+\")\n",
    "        return float(r.findall(tags['height'])[0])\n",
    "    if 'levels' in tags:\n",
    "        roof_height = 0\n",
    "        if 'roof_height' in tags:\n",
    "            if '\\'' in tags['roof_height'] or '\\\"' in tags['roof_height']:\n",
    "                roof_height = _feet_to_meters(tags['roof_height'])\n",
    "            else:\n",
    "                r = re.compile(r\"[-+]?\\d*\\.\\d+|\\d+\")\n",
    "                roof_height = float(r.findall(tags['roof_height'])[0])\n",
    "\n",
    "        # does not account for roof height\n",
    "        height = float(tags['levels']) * LEVEL_HEIGHT\n",
    "        if 'roof_levels' in tags and roof_height == 0:\n",
    "            height += float(tags['roof_levels']) * LEVEL_HEIGHT\n",
    "        return height\n",
    "    return 7.0\n",
    "\n",
    "def _get_min_height(tags):\n",
    "    if 'min_height' in tags:\n",
    "        # already accounts for roof\n",
    "        if '\\'' in tags['min_height'] or '\\\"' in tags['min_height']:\n",
    "            return _feet_to_meters(tags['min_height'])\n",
    "        r = re.compile(r\"[-+]?\\d*\\.\\d+|\\d+\")\n",
    "        return float(r.findall(tags['min_height'])[0])\n",
    "    if 'min_level' in tags:\n",
    "        height = float(tags['min_level']) * LEVEL_HEIGHT\n",
    "        return height\n",
    "    return 0.0\n",
    "\n",
    "class BuildingHandler(osmium.SimpleHandler):\n",
    "\n",
    "    def __init__(self):\n",
    "        osmium.SimpleHandler.__init__(self)\n",
    "        self.geometry = []\n",
    "        self.height = []\n",
    "        self.min_height = []\n",
    "        self.wkbfab = osmium.geom.WKBFactory()\n",
    "\n",
    "    def get_gdf(self):\n",
    "        geometry = gpd.GeoSeries.from_wkb(self.geometry, crs='epsg:4326')\n",
    "        height = pd.Series(self.height, dtype='float')\n",
    "        min_height = pd.Series(self.min_height, dtype='float')\n",
    "        \n",
    "        return gpd.GeoDataFrame({\n",
    "            'geometry': geometry,\n",
    "            'min_height': self.min_height,\n",
    "            'height': self.height\n",
    "        }, index=geometry.index)\n",
    "\n",
    "    def area(self, a):\n",
    "        tags = a.tags\n",
    "        # Qualifiers\n",
    "        if not ('building' in tags or 'building:part' in tags or tags.get('type', None) == 'building'):\n",
    "            return\n",
    "        # Disqualifiers\n",
    "        if (tags.get('location', None) == 'underground' or 'bridge' in tags):\n",
    "            return\n",
    "        try:\n",
    "            poly = self.wkbfab.create_multipolygon(a)\n",
    "            self.geometry.append(poly)\n",
    "            self.height.append(_get_height(tags))\n",
    "            self.min_height.append(_get_min_height(tags))\n",
    "        except Exception as e:\n",
    "            print(e)\n",
    "            print(a)"
   ]
  },
  {
   "cell_type": "code",
   "execution_count": 67,
   "id": "efded0aa",
   "metadata": {},
   "outputs": [
    {
     "name": "stdout",
     "output_type": "stream",
     "text": [
      "{'place_id': 283012477, 'licence': 'Data © OpenStreetMap contributors, ODbL 1.0. https://osm.org/copyright', 'osm_type': 'relation', 'osm_id': 5396194, 'boundingbox': ['38.7916303', '38.995968', '-77.1197949', '-76.909366'], 'lat': '38.8950368', 'lon': '-77.0365427', 'display_name': 'Washington, District of Columbia, United States', 'class': 'boundary', 'type': 'administrative', 'importance': 0.8592888986115819, 'icon': 'https://nominatim.openstreetmap.org/ui/mapicons//poi_boundary_administrative.p.20.png'}\n"
     ]
    }
   ],
   "source": [
    "city_full = 'Washington DC'\n",
    "city = 'dc'\n",
    "filename = 'data/osm/%s.osm.pbf'%(city)\n",
    "input_filename = 'data/osm/north-america-latest.osm.pbf'\n",
    "\n",
    "geolocator = Nominatim(user_agent='uic')\n",
    "location = geolocator.geocode(city_full).raw\n",
    "print(location)\n",
    "\n",
    "bbox = [float(x) for x in location['boundingbox']]\n",
    "bbox = [{'lat': bbox[0], 'lon': bbox[2]}, {'lat': bbox[1], 'lon': bbox[3]}] # bottom left, top right\n",
    "\n",
    "aux = '%f,%f,%f,%f'%(bbox[0]['lon'],bbox[0]['lat'],bbox[1]['lon'],bbox[1]['lat'])\n",
    "proc = subprocess.call(['wsl', 'osmium-tool/build/osmium', 'extract', '-b', aux, '-o', filename, '--overwrite', input_filename], shell=True)"
   ]
  },
  {
   "cell_type": "code",
   "execution_count": 68,
   "id": "a9129df2",
   "metadata": {},
   "outputs": [],
   "source": [
    "h = BuildingHandler()\n",
    "h.apply_file(filename, locations=True)"
   ]
  },
  {
   "cell_type": "code",
   "execution_count": 69,
   "id": "97a46184",
   "metadata": {},
   "outputs": [
    {
     "name": "stderr",
     "output_type": "stream",
     "text": [
      "C:\\Users\\fabio\\AppData\\Local\\Temp\\ipykernel_30420\\2113808017.py:3: UserWarning: this is an initial implementation of Parquet/Feather file support and associated metadata.  This is tracking version 0.1.0 of the metadata specification at https://github.com/geopandas/geo-arrow-spec\n",
      "\n",
      "This metadata specification does not yet make stability promises.  We do not yet recommend using this in a production setting unless you are able to rewrite your Parquet/Feather files.\n",
      "\n",
      "To further ignore this warning, you can do: \n",
      "import warnings; warnings.filterwarnings('ignore', message='.*initial implementation of Parquet.*')\n",
      "  gdf.to_feather('data/osm/%s.feather'%city, compression='lz4')\n"
     ]
    }
   ],
   "source": [
    "gdf = h.get_gdf()\n",
    "gdf = gdf.to_crs('epsg:3395')\n",
    "gdf.to_feather('data/osm/%s.feather'%city, compression='lz4')  "
   ]
  }
 ],
 "metadata": {
  "kernelspec": {
   "display_name": "Python 3 (ipykernel)",
   "language": "python",
   "name": "python3"
  },
  "language_info": {
   "codemirror_mode": {
    "name": "ipython",
    "version": 3
   },
   "file_extension": ".py",
   "mimetype": "text/x-python",
   "name": "python",
   "nbconvert_exporter": "python",
   "pygments_lexer": "ipython3",
   "version": "3.9.12"
  }
 },
 "nbformat": 4,
 "nbformat_minor": 5
}
